{
 "cells": [
  {
   "cell_type": "markdown",
   "metadata": {},
   "source": [
    "Running the model on a GPU "
   ]
  },
  {
   "cell_type": "code",
   "execution_count": null,
   "metadata": {},
   "outputs": [],
   "source": [
    "# Import thư viện Transformer và truy xuất module T5Tokenizer T5F \n",
    "from transformers import T5Tokenizer , T5ForConditionalGeneration \n",
    "\n",
    "# Thực hiện tokenizer hóa văn bản vơus Flant5 XXL \n",
    "tokenizer = T5Tokenizer.from_pretrained(\"google/flan-t5-xxl\")\n",
    "# Thiết lập T5 xxl đào tạo trước \n",
    "model = T5ForConditionalGeneration.from_pretrained(\"google/flan-tx-xxl\", device_map=\"auto\")\n",
    "\n",
    "# Thiết lập mô hình mục tiên [Dịch ngôn ngữ từ tiếng anh sang tiếng đức]\n",
    "input_text = \"translate English to German: How old are you?\"\n",
    "# Xử lý đàu vào với T5Tokenizer đã thiết lập trước đó và trả về 1 tensor \n",
    "# Được xử lý thông qua GPU \n",
    "input_ids = tokenizer(input_text , return_tensor=\"pt\").input_tensor.to(\"cuda\")\n",
    "\n",
    "# Xây dựng đầu ra với generator \n",
    "outputs = model.generate(input_ids)\n",
    "# In ra kết quả \n",
    "print(tokenizer.decode(outputs[0]))"
   ]
  },
  {
   "cell_type": "markdown",
   "metadata": {},
   "source": [
    "Running the model on a  CPU "
   ]
  },
  {
   "cell_type": "code",
   "execution_count": null,
   "metadata": {},
   "outputs": [],
   "source": [
    "# Thực hiện các công việc tương tự như Huấn luyện trên GPU \n",
    "from transformers import T5Tokenizer , T5ForConditionalGeneration \n",
    "# Thiết lập lớp tokenizer \n",
    "tokenizer = T5Tokenizer.from_pretrained(\"google/flan-t5-xxl\")\n",
    "# Thiể lập mô hình đào tạo trước \n",
    "model = T5ForConditionalGeneration.from_pretrained(\"google/flan-t5-xxl\")\n",
    "\n",
    "# Đầu vào với nhiệm vụ dịch văn bản\n",
    "input_text = \"translate English to German: How old are you?\"\n",
    "input_ids = tokenizer(input_text, return_tensors=\"pt\").input_ids\n",
    "\n",
    "# Đầu ra sinh văn bản đã dịch bỏi mô hình \n",
    "outputs = model.generate(input_ids)\n",
    "print(tokenizer.decode(outputs[0]))"
   ]
  }
 ],
 "metadata": {
  "kernelspec": {
   "display_name": "Evironment",
   "language": "python",
   "name": "python3"
  },
  "language_info": {
   "name": "python",
   "version": "3.10.9"
  }
 },
 "nbformat": 4,
 "nbformat_minor": 2
}
