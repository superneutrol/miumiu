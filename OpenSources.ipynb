{
 "cells": [
  {
   "cell_type": "markdown",
   "metadata": {},
   "source": [
    "Link GPT2 model from OpenAi "
   ]
  },
  {
   "cell_type": "code",
   "execution_count": null,
   "metadata": {},
   "outputs": [],
   "source": [
    "https://github.com/openai/gpt-2/tree/master/src "
   ]
  },
  {
   "cell_type": "markdown",
   "metadata": {},
   "source": [
    "Trong biểu diễn mô hình ngôn ngữ lớn đầu ra dự đoán dạng shape = [1, max_len,vocab_size]\n",
    " * với 1 hàng , maxlen cột mỗi cột sẽ có vocab_size giá trị mỗi giá trị sẽ là một xác suất biểu diễn cho mỗi tokens tương ứng \n",
    " * Khi ta xét Tokens cần dự đoán ta xẽ xét theo chỉ số cột tức maxlen và xét chỉ số tokens có xác suất cao nhất trong cột đó "
   ]
  },
  {
   "cell_type": "markdown",
   "metadata": {},
   "source": [
    "DETR model\n"
   ]
  },
  {
   "cell_type": "code",
   "execution_count": null,
   "metadata": {},
   "outputs": [],
   "source": [
    "https://github.com/huggingface/transformers/blob/main/src/transformers/models/detr/modeling_detr.py"
   ]
  },
  {
   "cell_type": "markdown",
   "metadata": {},
   "source": [
    "GPT 2 FROM HUGGING FACE\n"
   ]
  },
  {
   "cell_type": "code",
   "execution_count": null,
   "metadata": {},
   "outputs": [],
   "source": [
    "https://github.com/huggingface/transformers/tree/main/src/transformers/models/gpt2"
   ]
  },
  {
   "cell_type": "markdown",
   "metadata": {},
   "source": [
    "SWIN TRANSFORMER V2SR VÀ V2 "
   ]
  },
  {
   "cell_type": "code",
   "execution_count": null,
   "metadata": {},
   "outputs": [],
   "source": [
    "https://github.com/huggingface/transformers/tree/main/src/transformers/models/swin2sr"
   ]
  },
  {
   "cell_type": "markdown",
   "metadata": {},
   "source": [
    "VITS VÀ VIT MODEL "
   ]
  },
  {
   "cell_type": "code",
   "execution_count": null,
   "metadata": {},
   "outputs": [],
   "source": [
    "https://github.com/huggingface/transformers/tree/main/src/transformers/models/vits"
   ]
  },
  {
   "cell_type": "markdown",
   "metadata": {},
   "source": [
    "Large Langguage Model MegaTron"
   ]
  },
  {
   "cell_type": "code",
   "execution_count": null,
   "metadata": {},
   "outputs": [],
   "source": [
    "https://github.com/huggingface/transformers/tree/main/src/transformers/models/mega"
   ]
  },
  {
   "cell_type": "markdown",
   "metadata": {},
   "source": [
    "Meta-LLama 3"
   ]
  },
  {
   "cell_type": "code",
   "execution_count": null,
   "metadata": {},
   "outputs": [],
   "source": [
    "https://github.com/meta-llama/llama3/blob/main/llama/tokenizer.py"
   ]
  }
 ],
 "metadata": {
  "language_info": {
   "name": "python"
  }
 },
 "nbformat": 4,
 "nbformat_minor": 2
}
