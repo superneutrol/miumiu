{
 "cells": [
  {
   "cell_type": "code",
   "execution_count": null,
   "metadata": {},
   "outputs": [],
   "source": [
    "import tensorflow_datasets as tfds \n",
    "dataset , infor = tfds.load(\"oford_iiit_pet:3.*.*\", with_info=True)"
   ]
  },
  {
   "cell_type": "markdown",
   "metadata": {},
   "source": [
    "Prepare the Datasets "
   ]
  },
  {
   "cell_type": "code",
   "execution_count": null,
   "metadata": {},
   "outputs": [],
   "source": [
    "# Để chuẩn bị các bộ dữ liệu cho huấn luyện và đánh giá :\n",
    "# 1 : Bình thường hóa các hình ảnh với trung bình và độ lệch chuẩn được sử dụng trong \n",
    "# quá trình đào tạo trước SegFormer\n",
    "# 2 : Trừ một mặt nạ phân đoạn để giá trị pixel bắt đầu từ 0 . \n",
    "# 3 : Resize hình ảnh \n",
    "# 4 : Chuyển đổi hình ảnh sao cho chúng ở định dạng \"channel_first\" . \n",
    "# Điều này làm cho chúng tương thích với SegFormer từ Hugging Face Transformers \n",
    "\n"
   ]
  },
  {
   "cell_type": "code",
   "execution_count": null,
   "metadata": {},
   "outputs": [],
   "source": []
  },
  {
   "cell_type": "code",
   "execution_count": null,
   "metadata": {},
   "outputs": [],
   "source": []
  }
 ],
 "metadata": {
  "language_info": {
   "name": "python"
  }
 },
 "nbformat": 4,
 "nbformat_minor": 2
}
