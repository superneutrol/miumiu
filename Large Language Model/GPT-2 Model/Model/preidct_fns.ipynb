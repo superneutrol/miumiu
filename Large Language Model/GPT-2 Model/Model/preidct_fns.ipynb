{
 "cells": [
  {
   "cell_type": "code",
   "execution_count": null,
   "metadata": {},
   "outputs": [],
   "source": [
    "import logging \n",
    "from functools import partial \n",
    "\n",
    "import tensorflow as tf \n",
    "import nbimporter \n",
    "from inputs import gpt2_pred_input \n",
    "from models.gpt2 import encoder \n"
   ]
  },
  {
   "cell_type": "code",
   "execution_count": null,
   "metadata": {},
   "outputs": [],
   "source": [
    "#Takes in the user supplied text and generates output texts. Outputs to log/console and a file\n",
    "# Nhận văn bản do người dùng cung cấp và tạo văn bản đầu ra \n",
    "def gpt2_predict(network, text, params):\n",
    "    logger = logging.getLogger('tensorflow')\n",
    "\n",
    "    # mã hóa tham số từ giá trị encoder_path là một đường dẫn thư mục \n",
    "    # trong từ điển params \n",
    "    enc = encoder.get_encoder(params[\"encoder_path\"])\n",
    "    # Kêu gọi phuuwong thức network.predict để dự đoán kết quả đầu ra \n",
    "    # sử dụng phương thức partial để tái sử dụng hàm gpt2_pred_input với \n",
    "    # dữ liệu đầu vào text \n",
    "    predictions = network.predict(input_fn=partial(gpt2_pred_input, text=text))\n",
    "\n",
    "    # mở tệp có đường dẫn la giá trị của khóa predict_path trong từ điển params \n",
    "    with tf.gfile.Open(params[\"encoder_path\"], \"a\") as f : \n",
    "        # duyệt qua danh sách dự đoán các tokens lấy ra chỉ số và giá trị \n",
    "        for i , p in enumerate(predictions):\n",
    "            # gán cho p = các token trong p \n",
    "            p = p[\"tokens\"]\n",
    "            # sử dụng tham só enc để giải mã các tokens p \n",
    "            text = enc.decode(p)\n",
    "            # Ta ghi các thông tin vào file F \n",
    "            f.write(\"=\" * 40 + \" SAMPLE \" + str(i) + \" \" + \"=\" * 40 + \"\\n\")\n",
    "            f.write(text)\n",
    "            f.write(\"\\n\" + \"=\" * 80 + \"\\n\")\n",
    "\n",
    "            # Ghi vào nhật ký các thông tin \n",
    "            logger.info(\"=\" * 40 + \" SAMPLE \" + str(i) + \" \" + \"=\" * 40 + \"\\n\")\n",
    "            logger.info(text)\n",
    "            logger.info(\"\\n\" + \"=\" * 80 + \"\\n\")"
   ]
  }
 ],
 "metadata": {
  "kernelspec": {
   "display_name": "Python 3",
   "language": "python",
   "name": "python3"
  },
  "language_info": {
   "name": "python",
   "version": "3.11.7"
  }
 },
 "nbformat": 4,
 "nbformat_minor": 2
}
