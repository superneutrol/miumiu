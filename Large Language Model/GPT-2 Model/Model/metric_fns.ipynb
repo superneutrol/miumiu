{
 "cells": [
  {
   "cell_type": "code",
   "execution_count": null,
   "metadata": {},
   "outputs": [],
   "source": [
    "import tensorflow as tf\n",
    "\n",
    "def perplexity_metric(loss):\n",
    "    loss = tf.reduce_mean(loss)\n",
    "    perplexity = tf.exp(loss)\n",
    "    return {\"perplexity\": tf.metrics.mean(perplexity)}"
   ]
  }
 ],
 "metadata": {
  "kernelspec": {
   "display_name": "Python 3",
   "language": "python",
   "name": "python3"
  },
  "language_info": {
   "name": "python",
   "version": "3.11.7"
  }
 },
 "nbformat": 4,
 "nbformat_minor": 2
}
