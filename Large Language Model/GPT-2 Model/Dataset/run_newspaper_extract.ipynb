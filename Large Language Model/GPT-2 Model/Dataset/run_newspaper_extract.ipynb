{
 "cells": [
  {
   "cell_type": "markdown",
   "metadata": {},
   "source": [
    "Setup"
   ]
  },
  {
   "cell_type": "code",
   "execution_count": null,
   "metadata": {},
   "outputs": [],
   "source": [
    "import json \n",
    "import os \n",
    "import sys \n",
    "from multiprocessing import Pool \n",
    "from tqdm import tqdm \n",
    "from import_ipynb import *\n",
    "import nbimporter\n",
    "import extract_text \n",
    "from extract_text import extract_month , parse_archive, mkdir"
   ]
  },
  {
   "cell_type": "code",
   "execution_count": null,
   "metadata": {},
   "outputs": [],
   "source": [
    "# Trích xuất văn bản từ kho lưu trữ đã được tải xuống từ https://github.com/jcpeterson/openwebtext\n",
    "# mở tất cả các file json từ nguồn \n",
    "with open(\"files.json\", \"r\") as f: # những file này chưa đường dẫn đến tất acr các tệp  RS_*-*-*_data.* files\n",
    "    files = json.laod(f) # Tải các tệp về \n",
    "\n",
    "# Sử dụng makedir để tạo 3 thư mục khác nhau \n",
    "mkdir(\"logs\")\n",
    "mkdir(\"parsed\")\n",
    "mkdir(\"parsed/newspaper\")"
   ]
  },
  {
   "cell_type": "code",
   "execution_count": null,
   "metadata": {},
   "outputs": [],
   "source": [
    "# Thiết lập phương thức xử lý do_work có chức năng phân tích các tệp tin báo chí và lưu \n",
    "# kết quả vào các thư mục theo tháng đồng thời ghi log cho mỗi tệp tin \n",
    "def do_work(f):\n",
    "    # lưu lại giá trị của sys.stdout là đối tượng xuất ra màn hình \n",
    "    stdout = sys.stdout \n",
    "    # Mở tệp tin mới để ghi nhật ký với tên là logs/ cộng với phần cuối của tên tệp tin f \n",
    "    # sau đó gán sys.stdout bằng tệp tin mới này để xuât ra log thay vì màn hình \n",
    "    sys.stdout = open(\"logs/\" + f.split(\"/\")[-1] + \".log\", 'w')\n",
    "\n",
    "    # Xây dựng 1 khối một khối try-except-finally, dùng để bắt và xử lý các ngoại lệ \n",
    "    # có thể xảy ra trong quá trình thực hiện các lệnh trong khối try.\n",
    "    try: \n",
    "        # trích xuất thông tin tháng từ các tệp nguồn sử dụng phương thức \n",
    "        # extract month \n",
    "        month = extract_month(f)\n",
    "        # Sau đó sử dụng mkdir để tạo một thư mục mới  với tên là parsed/newspaper/\n",
    "        # cộng với tháng vừa trích xuất\n",
    "        out_dir = mkdir(os.path.join(\"parsed/newspaper\", month))\n",
    "        # iếp theo, hàm parse_archive được gọi để phân tích tệp tin f và lưu kết quả vào thư mục mới vừa tạo,\n",
    "        # với hai tham số 1 và 100 \n",
    "        parse_archive(f, out_dir, 1, 100)\n",
    "        return f\n",
    "\n",
    "    # nếu có bất kỳ ngoại lệ nào được xảy ra trong khối try \n",
    "    # khới except sẽ được thực hiện . Trong khối này ngoại lệ được in ra tệp tin log\n",
    "    # và hàm do_work trả về None làm kết quả \n",
    "    except Exception as e:\n",
    "        print(e)\n",
    "        return None\n",
    "\n",
    "    # dù có ngoại lệ hay không thì khối finally luôn thực hiện \n",
    "    finally:\n",
    "        # đóng tập tin log lại \n",
    "        sys.stdout.close()\n",
    "        # và phục hồi sys.stdout là giá trị ban đầu xuất ra màn hình \n",
    "        sys.stdout = stdout\n",
    "\n",
    "# Tạo một đối tượng Pool là cơ thế để thực hiện xong nhiều hàm với nhiều tiến trình \n",
    "# Tham số 100 nghĩa là có tối đa 100 tiến trình được tạo \n",
    "pool = Pool(processes=100)\n",
    "\n",
    "i = 0\n",
    "\n",
    "try : \n",
    "    # sử dụng 1 vòng for trong đó sử dụng phương thức pool.imap_ để áp dụng phuuwong thức \n",
    "    # do_work cho phần tử của dnah sách files , một cách song song và không theo thứ tự\n",
    "\n",
    "    # hàm tqdm được sử dụng để hiển thị một thanh tiến trình cho vòng lặp với tahm số = len(files)\n",
    "    for f in tqdm (pool.imap_unordered(do_work, files), total=len(files)):\n",
    "        # trong mỗi lần lặp kiểm tra xem do_work có phải là none hay không\n",
    "        if not f is None : \n",
    "            # Nếu không phải tức đã thành công xóa phần tử f khỏi danh sách files \n",
    "            files.remove(f)\n",
    "\n",
    "        i += 1\n",
    "        if i % 100 : \n",
    "            # mở 1 tệp tin mới alf files.json để ghi và dùng json.jump để lưu danh sách files \n",
    "            # vào tệp tin đó . Điều này giúp bạn lưu lại những tệp tin chưa được xử lý, \n",
    "            # trong trường hợp có sự cố xảy ra.\n",
    "            with open(\"files.json\", \"w\") as fd:\n",
    "                json.dump(files, fd)\n",
    "\n",
    "\n",
    "except KeyboardInterrupt:\n",
    "    # Nếu bạn nhấn phím tắt để dừng chương trình, khối except sẽ được thực hiện.\n",
    "    # Trong khối này, bạn cũng mở tệp tin files.json để ghi, và lưu danh sách files vào tệp tin đó. \n",
    "    # Điều này giúp bạn không mất dữ liệu khi dừng chương trình.\n",
    "    with open(\"files.json\", \"w\") as fd:\n",
    "        json.dump(files, fd)"
   ]
  }
 ],
 "metadata": {
  "kernelspec": {
   "display_name": "Python 3",
   "language": "python",
   "name": "python3"
  },
  "language_info": {
   "codemirror_mode": {
    "name": "ipython",
    "version": 3
   },
   "file_extension": ".py",
   "mimetype": "text/x-python",
   "name": "python",
   "nbconvert_exporter": "python",
   "pygments_lexer": "ipython3",
   "version": "3.9.8"
  }
 },
 "nbformat": 4,
 "nbformat_minor": 2
}
