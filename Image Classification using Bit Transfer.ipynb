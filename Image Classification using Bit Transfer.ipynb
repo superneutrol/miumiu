{
 "cells": [
  {
   "cell_type": "code",
   "execution_count": null,
   "metadata": {},
   "outputs": [],
   "source": [
    "import numpy as np\n",
    "import pandas as pd \n",
    "import matplotlib.pyplot as plt \n",
    "import tensorflow as tf \n",
    "from tensorflow import keras \n",
    "import tensorflow_hub as hub \n",
    "import tensorflow_datasets as tfds \n",
    "\n",
    "tfds.disable_progress_bar()\n",
    "\n",
    "SEEDS = 42 \n",
    "np.random.seed(SEEDS)  \n",
    "tf.random.set_seed(SEEDS)"
   ]
  },
  {
   "attachments": {},
   "cell_type": "markdown",
   "metadata": {},
   "source": [
    "Gather Flower Dataset"
   ]
  },
  {
   "cell_type": "code",
   "execution_count": null,
   "metadata": {},
   "outputs": [],
   "source": [
    "train_ds , validation_ds = tfds.load(\n",
    "    'tf_flowers',\n",
    "    split = ['train[:85%]', 'train[85%:]'],\n",
    "    as_supervised= True,\n",
    ")"
   ]
  },
  {
   "attachments": {},
   "cell_type": "markdown",
   "metadata": {},
   "source": [
    "Visualise the dataset"
   ]
  },
  {
   "cell_type": "code",
   "execution_count": null,
   "metadata": {},
   "outputs": [],
   "source": [
    "plt.figure(figsize =(10 , 10))\n",
    "for i , (image , label) in enumerate(train_ds.take(9)):\n",
    "    ax = plt.subplot(3 ,3 ,i+1)\n",
    "    plt.imshow(image)\n",
    "    plt.title(int(label))\n",
    "    plt.axis('off')"
   ]
  },
  {
   "attachments": {},
   "cell_type": "markdown",
   "metadata": {},
   "source": [
    "Define hyperparameters"
   ]
  },
  {
   "cell_type": "code",
   "execution_count": null,
   "metadata": {},
   "outputs": [],
   "source": [
    "RESIZE_TO =  384 \n",
    "CROP_TO = 224 \n",
    "BATCH_SIZE = 64 \n",
    "STEPS_PER_EPOCH = 10\n",
    "AUTO = tf.data.AUTOTUNE  # optimizer the pipeline performance \n",
    "NUM_CLASSES = 5 # NUMBER OF CLASS \n",
    "SCHEDULE_LENGTH = (\n",
    "    500 # WE WIL TRAIN ON LOWER RESOLUTION IMAGES AND WIL STILL ATTAIN GOOD RESULT \n",
    "\n",
    ")\n",
    "\n",
    "SCHEDULE_BOUNDARIES = [\n",
    "    200 ,\n",
    "    300,\n",
    "    400,\n",
    "]  # MORE THE DATASET SIZE THE SCHEDULE LENGTH INCREASE \n"
   ]
  },
  {
   "attachments": {},
   "cell_type": "markdown",
   "metadata": {},
   "source": [
    "Define preprocessing helper funcions "
   ]
  },
  {
   "cell_type": "code",
   "execution_count": null,
   "metadata": {},
   "outputs": [],
   "source": [
    "SCHEDULE_LENGTH = SCHEDULE_LENGTH * 512 / BATCH_SIZE\n",
    "\n",
    "@tf.funcion\n",
    "def preprocess_train(image , label):\n",
    "    image = tf.image.random_flip_left_right(image)\n",
    "    image = tf.image.resize(image , (RESIZE_TO , RESIZE_TO))\n",
    "    image = tf.image.random_crop(image , (CROP_TO , CROP_TO, 3))\n",
    "    imgae = image /255.0\n",
    "    return (image, label)\n",
    "\n",
    "@tf.funcion \n",
    "def preprocess_test(image , label):\n",
    "    image = tf.image.resize(image , (RESIZE_TO, RESIZE_TO))\n",
    "    image = image / 255.0\n",
    "    return (image , label)\n",
    "\n",
    "\n",
    "DATASET_NUM_TRAIN_ẼAMPLES = train_ds.cardinality().numpy()\n",
    "\n",
    "repeat_count = int(\n",
    "    SCHEDULE_LENGTH * BATCH_SIZE / DATASET_NUM_TRAIN_ẼAMPLES * STEPS_PER_EPOCH\n",
    ")\n",
    "repeat_count += 50 +1"
   ]
  },
  {
   "attachments": {},
   "cell_type": "markdown",
   "metadata": {},
   "source": [
    "Define the data pipeline"
   ]
  },
  {
   "cell_type": "code",
   "execution_count": null,
   "metadata": {},
   "outputs": [],
   "source": [
    "# Training pipeline\n",
    "pipeline_train = (\n",
    "    train_ds.shuffle(10000)\n",
    "    .repeat(repeat_count)  # Repeat dataset_size / num_steps\n",
    "    .map(preprocess_train, num_parallel_calls=AUTO)\n",
    "    .batch(BATCH_SIZE)\n",
    "    .prefetch(AUTO)\n",
    ")\n",
    "\n",
    "# Validation pipeline\n",
    "pipeline_validation = (\n",
    "    validation_ds.map(preprocess_test, num_parallel_calls=AUTO)\n",
    "    .batch(BATCH_SIZE)\n",
    "    .prefetch(AUTO)\n",
    ")"
   ]
  },
  {
   "attachments": {},
   "cell_type": "markdown",
   "metadata": {},
   "source": [
    "Visualise the training samples"
   ]
  },
  {
   "cell_type": "code",
   "execution_count": null,
   "metadata": {},
   "outputs": [],
   "source": [
    "image_batch , label_batch = next(iter(pipeline_train))\n",
    "\n",
    "plt.figure(figsize=(10,10))\n",
    "for n in range(25):\n",
    "    ax = plt.subplot(5 , 5 , n+1)\n",
    "    plt.imashow(image_batch[n])\n",
    "    plt.title(label_batch[n].numpy())\n",
    "    plt.axis('off')"
   ]
  },
  {
   "attachments": {},
   "cell_type": "markdown",
   "metadata": {},
   "source": [
    "Load pretrained TF-Hub model into a KerasLayer"
   ]
  },
  {
   "cell_type": "code",
   "execution_count": null,
   "metadata": {},
   "outputs": [],
   "source": [
    "bit_model_url = \"https://tfhub.dev/google/bit/m-r50x1/1\"\n",
    "bit_module = hub.KerasLayer(bit_model_url)"
   ]
  },
  {
   "attachments": {},
   "cell_type": "markdown",
   "metadata": {},
   "source": [
    "Create BigTransfer (BiT) model"
   ]
  },
  {
   "cell_type": "code",
   "execution_count": null,
   "metadata": {},
   "outputs": [],
   "source": [
    "class MyBiTModel(keras.Model):\n",
    "    def __init__(self, num_classes , module, **kwargs):\n",
    "        super().__init__(**kwargs)\n",
    "        self.num_classes = num_classes\n",
    "        self.head = keras.layers.Dense(num_classes, kernel_initializer='zeros')\n",
    "        self.bit_model = module\n",
    "\n",
    "    def call(self, images):\n",
    "        bit_embedding = self.bit_model(images)\n",
    "        return self.head(bit_embedding)\n",
    "    \n",
    "model = MyBiTModel(num_classes=NUM_CLASSES , module=bit_module)\n"
   ]
  },
  {
   "attachments": {},
   "cell_type": "markdown",
   "metadata": {},
   "source": [
    "Define optimizer and loss"
   ]
  },
  {
   "cell_type": "code",
   "execution_count": null,
   "metadata": {},
   "outputs": [],
   "source": [
    "learning_rate = 0.003 * BATCH_SIZE / 512\n",
    "\n",
    "# Decay learning rate by a factor of 10 at SCHEDULE_BOUNDARIES.\n",
    "lr_schedule = keras.optimizers.schedules.PiecewiseConstantDecay(\n",
    "    boundaries=SCHEDULE_BOUNDARIES,\n",
    "    values=[\n",
    "        learning_rate,\n",
    "        learning_rate * 0.1,\n",
    "        learning_rate * 0.01,\n",
    "        learning_rate * 0.001,\n",
    "    ],\n",
    ")\n",
    "optimizer = keras.optimizers.SGD(learning_rate=lr_schedule, momentum=0.9)\n",
    "\n",
    "loss_fn = keras.losses.SparseCategoricalCrossentropy(from_logits=True)"
   ]
  },
  {
   "attachments": {},
   "cell_type": "markdown",
   "metadata": {},
   "source": [
    "Compile the model"
   ]
  },
  {
   "cell_type": "code",
   "execution_count": null,
   "metadata": {},
   "outputs": [],
   "source": [
    "model.compile(optimizer=optimizer , loss=loss_fn, metrics=['accuracy'])"
   ]
  },
  {
   "attachments": {},
   "cell_type": "markdown",
   "metadata": {},
   "source": [
    "Set up callbacks"
   ]
  },
  {
   "cell_type": "code",
   "execution_count": null,
   "metadata": {},
   "outputs": [],
   "source": [
    "train_callbacks = [\n",
    "    keras.callbacks.EarlyStopping(\n",
    "        monitor=\"val_accuracy\", patience=2, restore_best_weights=True\n",
    "    )\n",
    "]"
   ]
  },
  {
   "attachments": {},
   "cell_type": "markdown",
   "metadata": {},
   "source": [
    "Train model"
   ]
  },
  {
   "cell_type": "code",
   "execution_count": null,
   "metadata": {},
   "outputs": [],
   "source": [
    "history = model.fit(\n",
    "    pipeline_train,\n",
    "    batch_size=BATCH_SIZE,\n",
    "    epochs=int(SCHEDULE_LENGTH / STEPS_PER_EPOCH),\n",
    "    steps_per_epoch=STEPS_PER_EPOCH,\n",
    "    validation_data=pipeline_validation,\n",
    "    callbacks=train_callbacks,\n",
    ")\n"
   ]
  },
  {
   "attachments": {},
   "cell_type": "markdown",
   "metadata": {},
   "source": [
    "Plot the training and validation metrics"
   ]
  },
  {
   "cell_type": "code",
   "execution_count": null,
   "metadata": {},
   "outputs": [],
   "source": [
    "def plot_hist(hist):\n",
    "    plt.plot(hist.history[\"accuracy\"])\n",
    "    plt.plot(hist.history[\"val_accuracy\"])\n",
    "    plt.plot(hist.history[\"loss\"])\n",
    "    plt.plot(hist.history[\"val_loss\"])\n",
    "    plt.title(\"Training Progress\")\n",
    "    plt.ylabel(\"Accuracy/Loss\")\n",
    "    plt.xlabel(\"Epochs\")\n",
    "    plt.legend([\"train_acc\", \"val_acc\", \"train_loss\", \"val_loss\"], loc=\"upper left\")\n",
    "    plt.show()\n",
    "\n",
    "\n",
    "plot_hist(history)"
   ]
  },
  {
   "attachments": {},
   "cell_type": "markdown",
   "metadata": {},
   "source": [
    "Evaluate the model"
   ]
  },
  {
   "cell_type": "code",
   "execution_count": null,
   "metadata": {},
   "outputs": [],
   "source": [
    "accuracy = model.evaluate(pipeline_validation)[1] * 100\n",
    "print(\"Accuracy: {:.2f}%\".format(accuracy))"
   ]
  }
 ],
 "metadata": {
  "kernelspec": {
   "display_name": "Python 3",
   "language": "python",
   "name": "python3"
  },
  "language_info": {
   "codemirror_mode": {
    "name": "ipython",
    "version": 3
   },
   "file_extension": ".py",
   "mimetype": "text/x-python",
   "name": "python",
   "nbconvert_exporter": "python",
   "pygments_lexer": "ipython3",
   "version": "3.9.8"
  },
  "orig_nbformat": 4
 },
 "nbformat": 4,
 "nbformat_minor": 2
}
