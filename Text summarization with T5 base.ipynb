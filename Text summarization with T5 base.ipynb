{
 "cells": [
  {
   "cell_type": "code",
   "execution_count": null,
   "metadata": {},
   "outputs": [],
   "source": [
    "!nvidia-smi "
   ]
  },
  {
   "cell_type": "markdown",
   "metadata": {},
   "source": [
    "Setup library"
   ]
  },
  {
   "cell_type": "code",
   "execution_count": null,
   "metadata": {},
   "outputs": [],
   "source": [
    "import json \n",
    "import pandas as pd \n",
    "import numpy as np \n",
    "import torch \n",
    "from pathlib import Path \n",
    "from torch.utils.data import Dataset , DataLoader \n",
    "import pytorch_lightning as pl\n",
    "from pytorch_lightning.callbacks import ModelCheckpoint \n",
    "from pytorch_lightning.loggers import TensorBoardLogger \n",
    "from sklearn.model_selection import train_test_split \n",
    "from termcolor import colored \n",
    "import textwrap \n",
    "from transformers import (\n",
    "    AdamW , T5ForConditionalGeneration , \n",
    "    T5TokenizerFast as T5Tokenizer \n",
    ")\n",
    "from tqdm.auto import tqdm "
   ]
  },
  {
   "cell_type": "code",
   "execution_count": null,
   "metadata": {},
   "outputs": [],
   "source": [
    "# Thiết lập một số cấu hình đồ thị tiêu chuẩn \n",
    "import seaborn as sns\n",
    "from pylab import rcParams\n",
    "import matplotlib.pyplot as plt\n",
    "from matplotlib import rc\n",
    "%config InlineBackend.figure_format='retina'\n",
    "sns.set(style='whitegrid', palette='muted', font_scale=1.2)\n",
    "rcParams['figure.figsize'] = 16 , 10"
   ]
  },
  {
   "cell_type": "code",
   "execution_count": null,
   "metadata": {},
   "outputs": [],
   "source": [
    "# Thiết lập hạt giống tất cả để đảm bảo rằng mọi thứ có thể tái tạo được \n",
    "pl.seed_everything(42)"
   ]
  },
  {
   "cell_type": "markdown",
   "metadata": {},
   "source": [
    "Download The Dataset "
   ]
  },
  {
   "cell_type": "code",
   "execution_count": null,
   "metadata": {},
   "outputs": [],
   "source": [
    "!gdown --id 1YL77L4lVadhM4ppu5p4hKiLVR4l5soo3"
   ]
  },
  {
   "cell_type": "code",
   "execution_count": null,
   "metadata": {},
   "outputs": [],
   "source": [
    "!unzip -q news_summary.csv.zip -d data"
   ]
  },
  {
   "cell_type": "code",
   "execution_count": null,
   "metadata": {},
   "outputs": [],
   "source": [
    "df = pd.read_csv(\"data/news_summary.csv\", encoding=\"latin-1\")\n",
    "df.head()"
   ]
  },
  {
   "cell_type": "code",
   "execution_count": null,
   "metadata": {},
   "outputs": [],
   "source": [
    "df = df[['text' , \"ctext\"]]\n",
    "df.head()"
   ]
  },
  {
   "cell_type": "code",
   "execution_count": null,
   "metadata": {},
   "outputs": [],
   "source": [
    "df.columns = [\"summary\",\"text\"]\n",
    "df = df.dropna()\n",
    "df.head()"
   ]
  },
  {
   "cell_type": "code",
   "execution_count": null,
   "metadata": {},
   "outputs": [],
   "source": [
    "df.shape"
   ]
  },
  {
   "cell_type": "code",
   "execution_count": null,
   "metadata": {},
   "outputs": [],
   "source": [
    "train_df , test_df = train_test_split(df, test_size=0.15)\n",
    "train_df.shape , test_df.shape "
   ]
  },
  {
   "cell_type": "code",
   "execution_count": null,
   "metadata": {},
   "outputs": [],
   "source": [
    "# Tạo một tập dữ liệu ở dạng tập ngày mở rộng \n",
    "# Từ tập dữ liệu pytorch \n",
    "class NewsSummaryDataset(Dataset):\n",
    "    def __init__(\n",
    "            self, \n",
    "            data: pd.DataFrame, \n",
    "            tokenizer: T5Tokenizer, \n",
    "            text_max_token_len = 512 , \n",
    "            summary_max_token_len: int = 128 \n",
    "    ):\n",
    "        self.tokenizer = tokenizer \n",
    "        self.data = data \n",
    "        self.text_max_token_len = text_max_token_len\n",
    "        self.summary_max_token_len = summary_max_token_len \n",
    "    \n",
    "    def __len__(self):\n",
    "        return len(self.data)\n",
    "\n",
    "    def __getitem__(self, index: int):\n",
    "        # Lấy ra hàng dữ  liệu và chỉ mục hiện tại \n",
    "        data_row = self.iloc[index]\n",
    "        # Trích suất văn bản theo chỉ mục \n",
    "        text = data_row[\"text\"]\n",
    "        # Thực hiện mã hóa văn bản \n",
    "        text_encoding = self.tokenizer(\n",
    "            text , max_length= self.text_max_token_len , \n",
    "            padding =\"max_length\",\n",
    "            truncation =True , \n",
    "            return_attention_mask=True , \n",
    "            # Thêm vào các mã thông báo đặc biệt \n",
    "            add_special_tokens=True , \n",
    "            # Trả về dạng  tensor \n",
    "            return_tensor=\"pt\"\n",
    "        )\n",
    "        # Mã hóa văn bản tóm tắt \n",
    "        summary_encoding = self.tokenizer (\n",
    "            data_row[\"summary\"], max_length= self.summary_max_token_len, \n",
    "            padding =\"max_length\", \n",
    "            truncation = True , \n",
    "            return_attention_mask= True , \n",
    "            # Thêm vào các mã thông báo đặc biệt \n",
    "            add_special_tokens= True , \n",
    "            # Trả vềd ạng tensor \n",
    "            return_tensors=\"pt\",\n",
    "        )\n",
    "\n",
    "        # Tạo ra các nhãn thực tế \n",
    "        labels = summary_encoding[\"input_ids\"]\n",
    "        labels [labels == 0] = -100\n",
    "\n",
    "        # Trả về 1 danh sách các bộ tham số dưới dạng từ điển\n",
    "        return dict(\n",
    "            # DATA = TEXT VÀ SUMMARY \n",
    "            text = text , summary = data_row[\"summary\"], \n",
    "            # input_ids \n",
    "            text_input_ids = text_encoding[\"input_ids\"].flatten(),\n",
    "            # attention_mask \n",
    "            text_attention_mask = text_encoding[\"attention_mask\"].flatten(),\n",
    "            # labels \n",
    "            labels = labels.flatten(),\n",
    "            # labels attention mask summary \n",
    "            labels_attention_mask = summary_encoding[\"attention_mask\"].flatten()\n",
    "        )\n"
   ]
  },
  {
   "cell_type": "code",
   "execution_count": null,
   "metadata": {},
   "outputs": [],
   "source": [
    "# Xây dựng lớp trả về dữ liệu \n",
    "class NewsSummaryDataModule(pl.LightningDataModule):\n",
    "    # Thiết lập phương thức khởi tạo\n",
    "    def __init__(self,\n",
    "        train_df: pd.DataFrame, \n",
    "        test_df: pd.DataFrame , \n",
    "        tokenizer: T5Tokenizer , \n",
    "        batch_size :int = 8, \n",
    "        text_max_token_len: int = 512 , \n",
    "        summary_max_token_len: int = 128 ,\n",
    "        ):\n",
    "        super().__init__()\n",
    "        self.train_df = train_df \n",
    "        self.test_df = test_df \n",
    "        self.batch_size = batch_size \n",
    "        self.tokenizer = tokenizer \n",
    "        self.text_max_token_len = text_max_token_len \n",
    "        self.summary_max_token_len = summary_max_token_len\n",
    "    # Xây dựng phương thức thiết lập \n",
    "    # mã hóa data Train và Test \n",
    "    def setup(self, stage=None):\n",
    "        self.train_df = NewsSummaryDataset(\n",
    "            self.train_df , self.tokenizer , \n",
    "            self.text_max_token_len , \n",
    "            self.summary_max_token_len , \n",
    "        )\n",
    "\n",
    "        self.test_dataset = NewsSummaryDataset(\n",
    "            self.test_df ,\n",
    "            self.tokenizer ,\n",
    "            self.text_max_token_len ,\n",
    "            self.summary_max_token_len,\n",
    "        )\n",
    "    # Xây dựng phương thức thực hiện mô hình với dữ liệu \n",
    "    def train_datalogger(self):\n",
    "        return DataLoader(\n",
    "            self.train_dataset ,\n",
    "            batch_size = self.batch_suze ,\n",
    "            shuffle = True ,\n",
    "            num_workers=2\n",
    "        )\n",
    "\n",
    "    def val_dataloader(self):\n",
    "        return DataLoader(\n",
    "            self.test_dataset,\n",
    "            batch_size = self.batch_size ,\n",
    "            shuffle = True ,\n",
    "            num_workers=2\n",
    "        )\n",
    "\n",
    "    def test_dataloader(self):\n",
    "        return DataLoader(\n",
    "            self.test_dataset,\n",
    "            batch_size = self.batch_size ,\n",
    "            shuffle = True ,\n",
    "            num_workers=2\n",
    "        )"
   ]
  },
  {
   "cell_type": "code",
   "execution_count": null,
   "metadata": {},
   "outputs": [],
   "source": [
    "# Đào tạo trước với T5 base\n",
    "MODEL_NAME = \"t5-base\"\n",
    "tokenizer = T5Tokenizer.from_pretrained(MODEL_NAME)"
   ]
  },
  {
   "cell_type": "code",
   "execution_count": null,
   "metadata": {},
   "outputs": [],
   "source": [
    "# Tạo 2 danh sách rỗng để chứa số lượng \n",
    "# len(tokenizer.encode(row['text']))\n",
    "# len(tokenizer.encode(row['summary'])) \n",
    "text_token_counts , summary_token_counts = [] , []\n",
    "for _, row in train_df.iterrows():\n",
    "    text_token_count = len(tokenizer.encode(row['text']))\n",
    "    text_token_counts.append(text_token_count)\n",
    "\n",
    "    summary_token_count = len(tokenizer.encode(row['summary']))\n",
    "    summary_token_counts.append(summary_token_count)"
   ]
  },
  {
   "cell_type": "code",
   "execution_count": null,
   "metadata": {},
   "outputs": [],
   "source": [
    "# Vẽ biểu đồ histplot cho danh sách token_count và summary_token_counts \n",
    "fig , (ax1 , ax2) = plt.subplots(1,2)\n",
    "\n",
    "sns.histplot(text_token_counts , ax=ax1)\n",
    "ax1.set_title(\"full text token counts\")\n",
    "\n",
    "sns.histplot(summary_token_counts , ax=ax2)\n",
    "ax2.set_title(\"full text token counts\")"
   ]
  },
  {
   "cell_type": "code",
   "execution_count": null,
   "metadata": {},
   "outputs": [],
   "source": [
    "N_EPOCHS = 3\n",
    "BATCH_SIZE = 8\n",
    "data_module = NewsSummaryDataModule(train_df , test_df , tokenizer , batch_size=BATCH_SIZE)"
   ]
  },
  {
   "cell_type": "code",
   "execution_count": null,
   "metadata": {},
   "outputs": [],
   "source": [
    "class NewsSummaryModel(pl.LightningModule):\n",
    "    def __init__(self):\n",
    "        super().__init__()\n",
    "        self.model = T5ForConditionalGeneration.from_pretrained(MODEL_NAME , return_dict=True)\n",
    "        self.tokenizer = T5Tokenizer.from_pretrained(MODEL_NAME)\n",
    "\n",
    "    def forward(self, input_ids , attention_mask , decoder_attention_mask , labels=None):\n",
    "        decoder_input_ids = self.tokenizer(labels , return_tensor=\"pt\").input_ids \n",
    "        output = self.model(\n",
    "            input_ids , \n",
    "            attention_masl = attention_mask , \n",
    "            decoder_attention_mask = decoder_attention_mask , \n",
    "            decoder_input_ids = decoder_input_ids ,\n",
    "        )\n",
    "        return output.loss , output.logits \n",
    "    \n",
    "    def training_step(self, batch , batch_idx):\n",
    "        input_ids = batch[\"text_input_ids\"]\n",
    "        attention_mask = batch[\"text_attention_mask\"]\n",
    "        labels = batch[\"labels\"]\n",
    "        labels_attention_mask = batch[\"labels_attention_mask\"]\n",
    "\n",
    "        loss , outputs = self(\n",
    "            input_ids = input_ids ,\n",
    "            attention_mask = attention_mask ,\n",
    "            decoder_attention_mask = labels_attention_mask ,\n",
    "            labels = labels\n",
    "\n",
    "        )\n",
    "\n",
    "        self.log(\"train_loss\", loss , prog_bar=True ,logger=True )\n",
    "        return loss\n",
    "\n",
    "\n",
    "    def validation_step(self, batch , batch_idx):\n",
    "        input_ids = batch[\"text_input_ids\"]\n",
    "        attention_mask = batch[\"text_attention_mask\"]\n",
    "        labels = batch[\"labels\"]\n",
    "        labels_attention_mask = batch[\"labels_attention_mask\"]\n",
    "\n",
    "        loss , outputs = self(\n",
    "            input_ids = input_ids ,\n",
    "            attention_mask = attention_mask ,\n",
    "            decoder_attention_mask = labels_attention_mask ,\n",
    "            labels = labels\n",
    "\n",
    "        )\n",
    "\n",
    "        self.log(\"val_loss\", loss , prog_bar=True ,logger=True )\n",
    "        return loss\n",
    "\n",
    "    def test_step(self, batch , batch_idx):\n",
    "        input_ids = batch[\"text_input_ids\"]\n",
    "        attention_mask = batch[\"text_attention_mask\"]\n",
    "        labels = batch[\"labels\"]\n",
    "        labels_attention_mask = batch[\"labels_attention_mask\"]\n",
    "\n",
    "        loss , outputs = self(\n",
    "            input_ids = input_ids ,\n",
    "            attention_mask = attention_mask ,\n",
    "            decoder_attention_mask = labels_attention_mask ,\n",
    "            labels = labels\n",
    "\n",
    "        )\n",
    "\n",
    "        self.log(\"test_loss\", loss , prog_bar=True ,logger=True )\n",
    "        return loss\n",
    "\n",
    "\n",
    "    def configure_optimizers(self):\n",
    "        return AdamW(self.parameters(), lr=0.001)\n",
    "\n",
    "\n"
   ]
  },
  {
   "cell_type": "code",
   "execution_count": null,
   "metadata": {},
   "outputs": [],
   "source": [
    "model = NewsSummaryModel()"
   ]
  },
  {
   "cell_type": "code",
   "execution_count": null,
   "metadata": {},
   "outputs": [],
   "source": [
    "%load_ext tensorboard\n",
    "%tensorboard --logdir ./lightning_logs"
   ]
  },
  {
   "cell_type": "code",
   "execution_count": null,
   "metadata": {},
   "outputs": [],
   "source": [
    "checkpoint_callback = ModelCheckpoint(\n",
    "    dirpath = \"checkpoints\",\n",
    "    filename = \"best-checkpoint\",\n",
    "    save_top_k= 1 , \n",
    "    verbose =True , \n",
    "    monitor=\"val_los\", \n",
    "    mode=\"min\"\n",
    ")\n",
    "logger = TensorBoardLogger(\"lightning_logs\", name=\"news-summary\")"
   ]
  },
  {
   "cell_type": "code",
   "execution_count": null,
   "metadata": {},
   "outputs": [],
   "source": [
    "trainer = pl.Trainer(logger=logger , callbacks=[checkpoint_callback],\n",
    "                    devieces=1)"
   ]
  },
  {
   "cell_type": "code",
   "execution_count": null,
   "metadata": {},
   "outputs": [],
   "source": [
    "trainer.fit(model , data_module)"
   ]
  },
  {
   "cell_type": "code",
   "execution_count": null,
   "metadata": {},
   "outputs": [],
   "source": [
    "trained_model = NewsSummaryModel.load_from_checkpoint(\n",
    "    trainer.checkpoint_callback.best_model_path \n",
    ")\n",
    "trained_model.freeze()"
   ]
  },
  {
   "cell_type": "code",
   "execution_count": null,
   "metadata": {},
   "outputs": [],
   "source": [
    "def summarize(text):\n",
    "    text_encoding =tokenizer(\n",
    "        text , max_length = 512 , \n",
    "        padding=\"max_length\",\n",
    "        truncation =True , return_attention_mask =True , \n",
    "        add_special_tokens=True , \n",
    "        return_tensor=\"pt\"\n",
    "    ) \n",
    "    generated_ids = trained_model.model.generate(\n",
    "        input_ids =text_encoding[\"input_ids\"],\n",
    "        attention_mask = text_encoding[\"attention_mask\"],\n",
    "        max_length = 150 ,\n",
    "        num_beams=2 ,\n",
    "        repetition_penalty=2.5,\n",
    "        length_penalty=1.0,\n",
    "        early_stopping=True\n",
    "    )\n",
    "    preds= [\n",
    "      tokenizer.decode(gen_id , skip_special_tokens=True ,\n",
    "                       clean_up_tokenization_spaces=True )\n",
    "      for gen_id in generated_ids\n",
    "  ]\n",
    "    return \"\".join(preds)"
   ]
  },
  {
   "cell_type": "code",
   "execution_count": null,
   "metadata": {},
   "outputs": [],
   "source": [
    "sample_row = test_df.iloc[0]\n",
    "text = sample_row[\"text\"]\n",
    "model_summary = summarize(text)"
   ]
  },
  {
   "cell_type": "code",
   "execution_count": null,
   "metadata": {},
   "outputs": [],
   "source": [
    "text "
   ]
  },
  {
   "cell_type": "code",
   "execution_count": null,
   "metadata": {},
   "outputs": [],
   "source": [
    "sample_row[\"summary\"]"
   ]
  },
  {
   "cell_type": "code",
   "execution_count": null,
   "metadata": {},
   "outputs": [],
   "source": [
    "import tensorflow as tf \n",
    "from tensorflow import keras"
   ]
  },
  {
   "cell_type": "code",
   "execution_count": null,
   "metadata": {},
   "outputs": [],
   "source": [
    "import keras_nlp "
   ]
  },
  {
   "cell_type": "code",
   "execution_count": null,
   "metadata": {},
   "outputs": [],
   "source": [
    "import tensorflow_datasets "
   ]
  },
  {
   "cell_type": "code",
   "execution_count": null,
   "metadata": {},
   "outputs": [],
   "source": []
  }
 ],
 "metadata": {
  "kernelspec": {
   "display_name": "Python 3",
   "language": "python",
   "name": "python3"
  },
  "language_info": {
   "codemirror_mode": {
    "name": "ipython",
    "version": 3
   },
   "file_extension": ".py",
   "mimetype": "text/x-python",
   "name": "python",
   "nbconvert_exporter": "python",
   "pygments_lexer": "ipython3",
   "version": "3.9.8"
  }
 },
 "nbformat": 4,
 "nbformat_minor": 2
}
