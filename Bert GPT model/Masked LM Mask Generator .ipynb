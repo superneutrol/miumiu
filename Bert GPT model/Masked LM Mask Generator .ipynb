{
 "cells": [
  {
   "cell_type": "code",
   "execution_count": null,
   "metadata": {},
   "outputs": [],
   "source": [
    "import keras_nlp\n",
    "import tensorflow  as tf "
   ]
  },
  {
   "cell_type": "code",
   "execution_count": null,
   "metadata": {},
   "outputs": [],
   "source": [
    "# Xây dựng lớp áp dụng mặt nạ mô hình ngôn ngữ \n",
    "# Gồm :\n",
    "    # vocab_size : kích thước tập từ vựng \n",
    "    # Mask_selection_rate : Float , xác xuất mã thông báo được chọn để tạo mặt nạ \n",
    "    # Mask_token_id : int ID của mã thông báo mặt nạ \n",
    "    # Maske_selection_length : int : Số lượng mã thông báo tối đa được chọn để che trong mỗi \n",
    "    # chuỗi \n",
    "    # Unselectable_toke_ids : Danh sách id mã thông báo không được coi là đủ điều kiện để che đi nó\n",
    "    # Tức là các token đặc biệt , tokens đệm \n",
    "    # Mask_token_rate : phải nằm trong khoảng từ 0 đến 1 cho biết tần suất mặt nạ_token được \n",
    "    # thay thế cho các mã thông báo được chọn để tạo mặt nạ. Mặc định là 0.8.\n",
    "    # Random_token_rate : là tỷ lệ phải nằm trong 0 -> 1 cho biết tần xuất (số lần) \n",
    "    # 1 mã thông báo ngẫu nhiên được thay thế cho các mã thông báo được chọn để che giấu \n",
    "\n",
    "# Trả về 1 Từ điển : "
   ]
  },
  {
   "cell_type": "code",
   "execution_count": null,
   "metadata": {},
   "outputs": [],
   "source": [
    "vocabulary_size = 10000\n",
    "masked_selection_rate =0.2\n",
    "mask_token_id =  99\n"
   ]
  },
  {
   "cell_type": "code",
   "execution_count": null,
   "metadata": {},
   "outputs": [],
   "source": [
    "keras_nlp.layers.MaskedLMMaskGenerator(\n",
    "    vocabulary_size = vocabulary_size, \n",
    "    mask_selection_rate = masked_selection_rate, \n",
    "    mask_token_id= mask_token_id, \n",
    "    mask_selection_length= 0.15 , \n",
    "    unselectable_token_ids= [0], \n",
    "    mask_token_rate=0.8, \n",
    "    random_token_rate=0.1 , \n",
    "    **kwargs,\n",
    ")"
   ]
  },
  {
   "cell_type": "code",
   "execution_count": null,
   "metadata": {},
   "outputs": [],
   "source": [
    "masker = keras_nlp.layers.MaskedLMMaskGenerator(\n",
    "    vocabulary_size=10 , \n",
    "    mask_selection_rate=0.2, \n",
    "    mask_token_id=0, \n",
    "    mask_selection_length=5, \n",
    ")\n",
    "\n",
    "# Dense input \n",
    "masker([1, 2, 3, 4, 5])\n",
    "\n",
    "# Ragged input \n",
    "masker([[1, 2], [1, 2, 3 ,4]])"
   ]
  },
  {
   "cell_type": "code",
   "execution_count": null,
   "metadata": {},
   "outputs": [],
   "source": [
    "pad_id, cls_id, sep_id, mask_id = 0, 1, 2, 3\n",
    "batch = [\n",
    "    [cls_id,   4,    5,      6, sep_id,    7,    8, sep_id, pad_id, pad_id],\n",
    "    [cls_id,   4,    5, sep_id,      6,    7,    8,      9, sep_id, pad_id],\n",
    "]\n",
    "\n",
    "masker = keras_nlp.layers.MaskedLMMaskGenerator(\n",
    "    vocabulary_size = 10,\n",
    "    mask_selection_rate = 0.2, # xác xuất mã thông báo sẽ được chọn để tạo mặt nạ \n",
    "    mask_selection_length = 5, # số lượng token được che đi \n",
    "    mask_token_id = mask_id, # Id (int) của các token mặt nạ\n",
    "    unselectable_token_ids = [ # danh sách mã thông báo đủ điều kiện để che đi \n",
    "        cls_id,\n",
    "        sep_id,\n",
    "        pad_id,\n",
    "    ]\n",
    ")\n",
    "masker(batch)"
   ]
  }
 ],
 "metadata": {
  "language_info": {
   "name": "python"
  },
  "orig_nbformat": 4
 },
 "nbformat": 4,
 "nbformat_minor": 2
}
