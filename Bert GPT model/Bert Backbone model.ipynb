{
 "cells": [
  {
   "cell_type": "markdown",
   "metadata": {},
   "source": [
    "Bert Backbone model"
   ]
  },
  {
   "cell_type": "code",
   "execution_count": null,
   "metadata": {},
   "outputs": [],
   "source": [
    "import keras_nlp\n",
    "import numpy as np \n",
    "keras_nlp.models.BertBackbone(\n",
    "    vocabulary_size,\n",
    "    num_layers, \n",
    "    num_heads, \n",
    "    hidden_dim , \n",
    "    intermediate_dim, \n",
    "    dropout=0.1,\n",
    "    max_sequence_length=512,\n",
    "    num_segments=2,\n",
    "    **kwargs\n",
    ")\n"
   ]
  },
  {
   "cell_type": "code",
   "execution_count": null,
   "metadata": {},
   "outputs": [],
   "source": [
    "input_data = {\n",
    "    \"token_ids\": np.ones(shape=(1 ,12), dtype='int32'),\n",
    "    \"segment_ids\": np.array([[0, 0, 0, 0, 0, 1, 1, 1, 1, 1, 0, 0]]),\n",
    "    \"padding_mask\": np.array([[1, 1, 1, 1, 1, 1, 1, 1, 1, 1, 0, 0]]),\n",
    "}\n",
    "\n",
    "# Pretrained Bert encoder \n",
    "model = keras_nlp.models.BertBackbone.from_preset(\"bert_base_en_uncased\")\n",
    "model(input_data)\n",
    "\n",
    "# Random initialized Bert encoder with a custom config \n",
    "model = keras_nlp.models.BertBackbone(\n",
    "    vocabulary_size=30552,\n",
    "    num_heads=4, \n",
    "    num_layers=4,\n",
    "    intermediate_dim=512,\n",
    "    max_sequence_length=128,\n",
    ")\n",
    "model(input_data)"
   ]
  },
  {
   "cell_type": "code",
   "execution_count": null,
   "metadata": {},
   "outputs": [],
   "source": [
    "# Load architecture and weights from preset \n",
    "model = keras_nlp.models.BertBackbone.from_preset(\n",
    "    \"bert_tiny_en_uncased\"\n",
    ")\n",
    "# Load randomly initialized model from preset archaitecture\n",
    "model = keras_nlp.models.BertBackbone.from_preset(\n",
    "    \"bert_tiny_en_uncased\",\n",
    "    load_weights=False\n",
    ")\n"
   ]
  },
  {
   "cell_type": "code",
   "execution_count": null,
   "metadata": {},
   "outputs": [],
   "source": []
  }
 ],
 "metadata": {
  "language_info": {
   "name": "python"
  },
  "orig_nbformat": 4
 },
 "nbformat": 4,
 "nbformat_minor": 2
}
