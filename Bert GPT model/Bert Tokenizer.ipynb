{
 "cells": [
  {
   "cell_type": "markdown",
   "metadata": {},
   "source": [
    "BertTokenizer class"
   ]
  },
  {
   "cell_type": "code",
   "execution_count": null,
   "metadata": {},
   "outputs": [],
   "source": [
    "import keras_nlp\n",
    "keras_nlp.models.BertTokenizer(vocabulary, lowercase=False, *kwargs)"
   ]
  },
  {
   "cell_type": "code",
   "execution_count": null,
   "metadata": {},
   "outputs": [],
   "source": [
    "# lớp đầu vào không theo đợt \n",
    "# lớp tokenizer này sẽ chuyển đổi các chuõio kỹ tự thô thành các chuỗi số nguyên \n",
    "# và dựa trên keras_nlp.tokenizers.WordPieceTokenizer \n",
    "# Nó sẽ kiểm tra tát cả các token đặc biệt cần thiết cho các mô hình bert và \n",
    "# cung cấp một phương thức from_preset để tự động tải xuống một bộ từ vựng phù hợp \n",
    "# Lưu ý token này không cung cấp việc cắt ngắn hoặc đệm các đầu vào\n",
    "tokenizer = keras_nlp.models.BertTokenizer.from_preset(\n",
    "    \"bert_base_en_uncased\",\n",
    ")\n",
    "tokenizer(['Ther quick brown fox jumped.' , 'The fox slept.'])\n",
    "\n",
    "# Detokenization \n",
    "tokenizer.detokenize(tokenizer('The quick brown fox jumped.'))\n",
    "\n",
    "# custom vocabulary \n",
    "vocab = ['[UNK]' , '[CLS]', '[SEP]', '[PAD]' , '[MASK]']\n",
    "vocab += ['The' , 'quick', 'brown', 'fox', 'jumped', \".\"]\n",
    "tokenizer = keras_nlp.models.BertTokenizer(vocabulary=vocab)\n",
    "\n",
    "tokenizer(\"The quick brown fox jumped.\")"
   ]
  },
  {
   "cell_type": "code",
   "execution_count": null,
   "metadata": {},
   "outputs": [],
   "source": [
    "# Load a presset tokenizer \n",
    "tokenizer = keras_nlp.models.BertTokenizer.from_preset(\n",
    "    'bert_tiny_en_uncased',\n",
    ")\n",
    "# Tokenize some input \n",
    "tokenizer('The quick brown fox tripped.')\n",
    "\n",
    "# Detokenize some input \n",
    "tokenizer.detokenize([5, 6, 7 , 8, 9])"
   ]
  }
 ],
 "metadata": {
  "language_info": {
   "name": "python"
  },
  "orig_nbformat": 4
 },
 "nbformat": 4,
 "nbformat_minor": 2
}
