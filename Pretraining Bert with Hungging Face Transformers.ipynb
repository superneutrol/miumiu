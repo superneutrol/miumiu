{
 "cells": [
  {
   "cell_type": "code",
   "execution_count": null,
   "metadata": {},
   "outputs": [],
   "source": [
    "!pip install git+https://github.com/huggingface/transformers.git\n",
    "!pip install datasets\n",
    "!pip install huggingface-hub\n",
    "!pip install nltk"
   ]
  },
  {
   "cell_type": "markdown",
   "metadata": {},
   "source": [
    "Importing the necessary libraries"
   ]
  },
  {
   "cell_type": "code",
   "execution_count": null,
   "metadata": {},
   "outputs": [],
   "source": [
    "import nltk \n",
    "import random \n",
    "import logging \n",
    "\n",
    "import tensorflow as tf \n",
    "import keras \n",
    "\n",
    "nltk.download('punkt')\n",
    "# chỉ ghi lại thông báo lỗi \n",
    "tf.get_logger().setLevel(logging.ERROR)\n",
    "\n",
    "# Set random seed \n",
    "keras.utils.set_random_seed(42)"
   ]
  },
  {
   "cell_type": "markdown",
   "metadata": {},
   "source": [
    "Define certain variables "
   ]
  },
  {
   "cell_type": "code",
   "execution_count": null,
   "metadata": {},
   "outputs": [],
   "source": [
    "TOKENIZER_BATCH_SIZE = 256 # KÍCH THƯỚC HÀNG LOẠT ĐỂ ĐÀO TẠO MÃ THÔNG BÁO TRÊN \n",
    "TOKENIZER_VOCABULARY = 25000 # TỔNG SỐ TỪ PHỤ DUY NHẤT MÀ TOKENIZER CÓ THỂ CÓ \n",
    "\n",
    "BLOCK_SIZE = 128 # SỐ LƯỢNG TỐI ĐA CỦA TOKEN TRONG MỖI MẪU ĐẦU VÀO \n",
    "NSP_PROB = 0.5  # XÁC XUẤT CÂU TIẾP THEO LÀ CÂU TIẾP THEO THỰC TẾ TRONG NSP \n",
    "SHORT_SEQ_PROB = 0.1 # Xác xuất tạo ra các chuỗi ngăn hơn để giảm thiểu \n",
    "# sự không khớp giữa tiền huấn luyện và tinh chỉnh \n",
    "MAX_LENGTH = 512 # Số lượng token tối đa trong mỗi đầu vào sau đệm\n",
    "\n",
    "MLM_PROB = 0.2  # Xác xuất với những tokens là mặt nạ trong MLM \n",
    "\n",
    "TRAIN_BATCH_SIZE = 2 # Kích thước lô cho mô hình huấn luyện trước trên \n",
    "MAX_EPOCHS = 1 # SỐ KỶ NGUYÊN TỐI ĐA CHO HUẤN LUYỆN MÔ HÌNH \n",
    "LEARNING_RATE = 1e-4 # TỶ LỆ HỌC TẬP CHO HUẤN LUYỆN MÔ HÌNH \n",
    "\n",
    "MODEL_CHECKPOINT = 'bert-base-cased' # Mô hình huấn luyện trước từ 🤗 Model Hub"
   ]
  },
  {
   "cell_type": "markdown",
   "metadata": {},
   "source": [
    "Load the WikiText dataset "
   ]
  },
  {
   "cell_type": "code",
   "execution_count": null,
   "metadata": {},
   "outputs": [],
   "source": [
    "from datasets import load_dataset \n",
    "dataset = load_dataset('wikitext', 'wikitext-2-raw-v1')\n",
    "print(dataset)"
   ]
  },
  {
   "cell_type": "markdown",
   "metadata": {},
   "source": [
    "Training a new Tokenizer"
   ]
  },
  {
   "cell_type": "code",
   "execution_count": null,
   "metadata": {},
   "outputs": [],
   "source": [
    "all_texts =  [\n",
    "    _ for _ in dataset['train']['text'] if len(_) > 0 and not _.startswith(\"=\")\n",
    "]\n",
    "# Xây dựng hàm để tách lô văn bản \n",
    "def batch_iterator(): \n",
    "    # lặp qua tất cả dữ liệu với mỗi bước nhảy bằng 1 lô\n",
    "    for i in range(0 ,len(all_texts), TOKENIZER_BATCH_SIZE):\n",
    "        # Sử dụng từ khóa yield để trả về 1 lô văn bản từ danh sách \n",
    "        # kích thước mỗi lô = TOKENIZER_BATCH_SIZE \n",
    "        yield all_texts[i : i + TOKENIZER_BATCH_SIZE]"
   ]
  },
  {
   "cell_type": "code",
   "execution_count": null,
   "metadata": {},
   "outputs": [],
   "source": [
    "from transformers import AutoTokenizer \n",
    "tokenizer = AutoTokenizer.from_pretrained(MODEL_CHECKPOINT)\n",
    "tokenizer = tokenizer.train_new_from_iterator(\n",
    "    batch_iterator() , vocab_size=TOKENIZER_VOCABULARY \n",
    ")"
   ]
  },
  {
   "cell_type": "markdown",
   "metadata": {},
   "source": [
    "Data Pre-processing "
   ]
  },
  {
   "cell_type": "code",
   "execution_count": null,
   "metadata": {},
   "outputs": [],
   "source": [
    "# lấy 1000 dữ liệu từ dữ liệu train gốc \n",
    "dataset['train'] = dataset['train'].select([_ for _ in range(1000)])\n",
    "# Tương tự với validation data\n",
    "dataset['validation'] = dataset['validation'.select([i for i in range(1000)])]"
   ]
  },
  {
   "cell_type": "code",
   "execution_count": null,
   "metadata": {},
   "outputs": [],
   "source": [
    "# We difine the số lượng tokes tối đa sau khi thực hiện tokenization mỗi mẫu huấn luyện\n",
    "# will have\n",
    "max_num_tokens = BLOCK_SIZE - tokenizer.num_special_tokens_to_add(pair=True)\n",
    "def prepare_train_features(examples):\n",
    "    \"\"\"Function to prepare features for NSP task\n",
    "    \n",
    "    Argument: \n",
    "        example: A dictionary with 1 key ('text')\n",
    "        text : List of raw documents (str)\n",
    "    Returns: \n",
    "        examples: A dictionary with 4 keys \n",
    "            Input_ids : List of Tokenized , Concatnated , and Bacthed (từng đợt)\n",
    "                sentences form the individual (cá nhân) raw documents (int)\n",
    "            Token_type_ids : List of intergers (0 or 1) corresponding \n",
    "                To : 0 for sentences no.1  and padding , 1 for sentence no.2 and padding \n",
    "            Attention_mask: List of intergers (0 or 1) corresponding \n",
    "                To : 1 for non-padded tokens , o for padded\n",
    "            Next_sentence_label: List of intergers (0 or 1) corresponding\n",
    "                To : 1 if the second sentence actually follows the fist  \n",
    "                0 if the senetence is sampled from somewhere else in the corpus\n",
    "    \"\"\"\n",
    "\n",
    "    # Xóa đi những mẫu không mong muốn từ dữ liệu huấn luyện \n",
    "    # Sử dụng hàm strip () để biến đổi các texts trong document thành string \n",
    "    # mặc định hàm này sẽ loại bỏ khoảng trắng \n",
    "    # sau đó kiểm tra xem chuỗi d có bắt đầu bằng ký tự \"=\" hay không \n",
    "    examples['document'] = [\n",
    "        d.strip() for d in examples['document'] if len(d) > 0 and not d.startswitch(\" =\")\n",
    "    ]\n",
    "    # Tách các dữ liệu từ tập dữ liệu thành các câu riêng lẻ \n",
    "    # sử dụng hàm nltk.tokenize.sent_tokenize để trả về danh sách chuỗi \n",
    "    # mỗi chuỗi là một câu  \n",
    "    examples['sentences'] = [\n",
    "        nltk.tokenize.sent_tokenize(document) for document in examples['document']\n",
    "    ]\n",
    "    # Chuyển đổi các mã thông báo trong câu thành id (int) bằng cách sử dụng \n",
    "    # mã thông báo được đào tạo \n",
    "    examples['tokenized_sentences'] = [\n",
    "        [tokenizer.convert_tokens_to_ids(tokenizer.tokenize(sent)) for sent in doc ]\n",
    "        for doc in examples['sentences']\n",
    "    ]\n",
    "    \n",
    "    # xác đinh danh sách đầu ra \n",
    "    examples['input_ids'] = []  # id return  input tokens type int \n",
    "    examples['token_type_ids'] = []  # sentences [0 or 1] second and first \n",
    "    examples['attention_mask']  = []  # [o , 1] : no 1  , for sentences , 0 for padded \n",
    "    examples['next_sentence_labels']=[]   #[0,1]: 1 is follower , 0 is not followed\n",
    "\n",
    "    # Duyệt qua tokens id của mẫu lấy ra vị trí và giá trị \n",
    "    # Sử dụng enumerate như một iterator một biến chứa giá trị có thể lặp \n",
    "    for doc_index , document in enumerate(examples['tokenized_sentences']):\n",
    "        # khởi tạo 2 mảng = None \n",
    "        # một mảng sẽ chứa 1 bộ đệm lưu trữ các phân đoạn làm việc hiên tại \n",
    "        current_chunk = []\n",
    "        # và một bộ sẽ chứa độ dài câu hiện tại \n",
    "        current_length = []\n",
    "        i = 0 \n",
    "\n",
    "        \"\"\" \n",
    "            Để có thể xử lý dễ dang hơn , thường tạo ra các đoạn văn bản có chiều dài \n",
    "                bằng nhau block_size , \n",
    "            Đôi khi tạo ra các đoạn văn bản ngắn hơn (target_sequences_length) để giảm \n",
    "                thiểu sựu khác biệt giưa quá trình tiền huấn luyện và tinh chỉnh \n",
    "        \"\"\"\n",
    "        # Xác định chiều dài mong muốn của câu \n",
    "        target_seq_length = max_num_tokens # max  = block_size ( kích thước tối đa câu - special tokens)\n",
    "\n",
    "        # Nếu sự ngẫu nhiên < 10 % tức 0.1  là xác xuất để tạo ra các chuỗi ngắn hơn  \n",
    "        # ta khởi tạo số mục tiêu này = 2 - > max_num_tokens \n",
    "        if random.random() < SHORT_SEQ_PROB:\n",
    "            target_seq_length = random.randint(2 , max_num_tokens)\n",
    "        \n",
    "\n",
    "        # Xử dụng while kiểm tra điều kiện i < len(document):\n",
    "        while i < len(document):\n",
    "            # gán phân đoạn câu  = document [i]\n",
    "            segment = document[i]\n",
    "            # thêm phân đoạn này vào bộ đệm lưu chữ phân đoạn bước thời gian hiện tại \n",
    "            current_chunk.append(segment)\n",
    "            # Thêm độ dài cho bộ đệm lưu chữ phân đoạn bước thời gian\n",
    "            # bằng cách  + độ dài ban đầu với độ dài đoạn câu phân đoạn\n",
    "            current_length += len(segment)\n",
    "\n",
    "            # Xây dựng điều kiện khi i = len(document) - 1 \n",
    "            # hoặc độ dài cau hiện tại >= target_seg_length tức là độ dài vượt chỉ tiêu \n",
    "            if  i == len(document) - 1 or current_length >= target_seq_length:\n",
    "                # khởi tạo một biến a_end là bao nhiêu đoạn từ 'current_chunk \n",
    "                # đi vào A từ câu đầu tiên\n",
    "                if current_chunk : # nếu có tồn tại bộ đệm lưu trữ phân đoạn bược thời gia \n",
    "                    # Hiện tại \n",
    "                    a_end = 1\n",
    "\n",
    "                    if len(current_chunk) >= 2 :\n",
    "                        a_end = random.randint(1 , len(current_chunk) - 1) \n",
    "                    \n",
    "                    tokens_a = []\n",
    "                    # lặp qua một chuỗi các tokens a_and:\n",
    "                    for j in range(a_end):\n",
    "                        # Lặp qua các đoạn văn bản (current chunk từ 0 đến a_end)\n",
    "                        # với mỗi đoạn văn bản , thêm tất cả các tokens của đoạn đó \n",
    "                        # vao a_end sử dụng extend để nối các đoạn danh sách với nhau \n",
    "                    # sau khi kết thúc tokens_a sẽ nhận được 1 list 0 -> a_end -1 các \n",
    "                    # đoạn tokens của current_chunk \n",
    "                        tokens_a.extend(current_chunk[j])\n",
    "\n",
    "                    # Khởi tạo danh sách token_ b \n",
    "                    tokens_b = []\n",
    "                    #  kiểm tra xem curren_chunk có phải 1 đoạn không \n",
    "                    # hoặc xác xuất ngẫu nhiên có nhỏ hơn nsp hay không \n",
    "                    # Nếu điều kiện đúng thì tokens_b sẽ được tạo ra từ 1 văn bản ngẫu nhiên khác \n",
    "                    # với 1 văn bản hiện tại \n",
    "                    if len(current_chunk) == 1 or random.random() < NSP_PROB:\n",
    "                        is_random_next = True \n",
    "                        # sau đó tính toán chiều dài mục tiêu token b \n",
    "                        target_b_length = target_seq_length - len(tokens_a)\n",
    "\n",
    "                        # Khởi tạo biến random_document_index để lưu chủ những chỉ số của văn bản\n",
    "                        # ngẫu nhiên  lặp 10 lần để chánh chọn lại văn bản hiện tại \n",
    "                        for _ in range(10):\n",
    "                            # Với mỗi lần lặp gán cho random_document_index \n",
    "                            # bộ chỉ số idx từ 0 đến danh sách các văn bản được tách thành các câu - 1\n",
    "                            random_document_index = random.randint(\n",
    "                                0 , len(examples['tokenized_sentences']) - 1\n",
    "                            )\n",
    "                            # và kiểm trả xem các chỉ số indx có khác hay không nếu 0 khác tiêp \n",
    "                        \n",
    "                            if random_document_index != doc_index:\n",
    "                                break \n",
    "                        # sau đó gán random_document bằng phần tử tệp văn bản đã tách câu \n",
    "                        # tại những chỉ số tương tự của random_document_indx\n",
    "                        random_document = examples['tokenized_sentences'][\n",
    "                            random_document_index \n",
    "                        ]\n",
    "                        # khởi tạo biến random_start  = 0 -> len_radom_document - 1 \n",
    "                        random_start = random.randint(0 , len(random_document) - 1)\n",
    "                        # Duyệt qua các câu trong random_document từ chỉ số satrt đến hết \n",
    "                        for j in range(random_start , len(random_document)):\n",
    "                            # Lặp qua các đoạn văn bản random_documen và thêm các chỉ số tokens của câu\n",
    "                            # và sử dụng extend để nối các câu với nhau \n",
    "                            tokens_b.extend(random_document[j])\n",
    "                            # sau đó kiểm trả xem độ dài tokens b có lớn hoặc băngc hiều đai mục tiêu \n",
    "                            # mong muốn cho b hay không \n",
    "                            if len(tokens_b) >= target_b_length:\n",
    "                                    break\n",
    "                            \n",
    "                            # sau đó tính số lượng đoạn văn bản không được sử dụng \n",
    "                        num_unused_segments = len(current_chunk) - a_end\n",
    "                        i -= num_unused_segments\n",
    "                    # trường hợp còn lại \n",
    "                    else: \n",
    "                        is_random_next = False \n",
    "                        # duyệt qua danh sách current_chunk và thêm các chỉ số a_end \n",
    "                        # cho tokens_b , sử dụng extend để nối các câu với nhau \n",
    "                        for j in range(a_end , len(current_chunk)):\n",
    "                            # sử dụng extend để nối các câu với nhau \n",
    "                            tokens_b.extend(current_chunk[j])\n",
    "\n",
    "                    # Thiết lập đâù vào từ 2 danh sách tokens_a , tokens_b \n",
    "                    input_ids = tokenizer.build_inputs_width_special_tokens(\n",
    "                        tokens_a , tokens_b\n",
    "                    )\n",
    "                    # Biến đổi type_tokens_ids 0 for sentences a , 1 for sentences b \n",
    "                    tokens_type_ids = tokenizer.create_token_type_ids_from_sequences(\n",
    "                        tokens_a , tokens_b\n",
    "                    )\n",
    "                    # Đệm cho tokens_ids và tokens_tyoe_ids \n",
    "                    padded = tokenizer.pad(\n",
    "                        {\"input_ids\" :input_ids , \" tokens_type_ids\": tokens_type_ids},\n",
    "                        padding = \"max_length\", \n",
    "                        max_length=MAX_LENGTH,\n",
    "                    )\n",
    "\n",
    "                    examples['input_ids'].append(padded['input_ids'])\n",
    "                    examples['token_type_ids'].append(padded['token_type_ids'])\n",
    "                    examples[\"attention_mask\"].append(padded['attention_mask']) # 1 for non-paded , 0 for padded\n",
    "                    examples['next_sentences_labels'].append(1 if is_random_next else 0)\n",
    "\n",
    "            i+ 1 \n",
    "        \n",
    "    # Xóa đi tất cả các cột dữ liệu không cần thiết từ tệp dự liệu \n",
    "    del  examples['document']\n",
    "    del examples['sentences']\n",
    "    del examples['text']\n",
    "    del examples['tokenized_sentences']\n",
    "\n",
    "    return examples \n",
    "\n",
    "tokenized_dataset = dataset.map(\n",
    "    prepare_train_features , batchched=True , remove_columns=['text'] , num_proc =1, \n",
    ")\n",
    "                "
   ]
  },
  {
   "cell_type": "code",
   "execution_count": null,
   "metadata": {},
   "outputs": [],
   "source": [
    "from transformers import DataCollatorForLanguageModeling \n",
    "\n",
    "collater = DataCollatorForLanguageModeling(\n",
    "    # tokenizer hóa văn bản , xacs xuất mặt nạ cho mlm = 0.2  20 % return tensor \n",
    "    tokeinzer= tokenizer , mlm=True , mlm_probability=MLM_PROB , return_tensors='tf'\n",
    ")"
   ]
  },
  {
   "cell_type": "code",
   "execution_count": null,
   "metadata": {},
   "outputs": [],
   "source": [
    "train = tokenized_dataset['train'].to_tf_dataset(\n",
    "    columns= ['input_ids' , 'token_type_ids' , 'attention_mask'],\n",
    "    label_col = ['labels' , 'next_sentences_label'],\n",
    "    batch_size = TRAIN_BATCH_SIZE , \n",
    "    shuffle = True , \n",
    "    cllate_fn = collater , \n",
    ")\n",
    "\n",
    "validation = tokenized_dataset['validation'].to_tf_dataset(\n",
    "    columns=[\"input_ids\", \"token_type_ids\", \"attention_mask\"],\n",
    "    label_cols=[\"labels\", \"next_sentence_label\"],\n",
    "    batch_size=TRAIN_BATCH_SIZE,\n",
    "    shuffle=True,\n",
    "    collate_fn=collater,\n",
    ")"
   ]
  },
  {
   "cell_type": "markdown",
   "metadata": {},
   "source": [
    "Defining the model "
   ]
  },
  {
   "cell_type": "code",
   "execution_count": null,
   "metadata": {},
   "outputs": [],
   "source": [
    "from transformers import BertConfig \n",
    "config = BertConfig.from_pretrained(MODEL_CHECKPOINT)"
   ]
  },
  {
   "cell_type": "code",
   "execution_count": null,
   "metadata": {},
   "outputs": [],
   "source": [
    "from transformers import TFBertForPreTraining\n",
    "\n",
    "model = TFBertForPreTraining(config)"
   ]
  },
  {
   "cell_type": "code",
   "execution_count": null,
   "metadata": {},
   "outputs": [],
   "source": [
    "optimizer = keras.optimizers.Adam(learning_rate=LEARNING_RATE)\n",
    "\n",
    "model.compile(optimizer=optimizer)"
   ]
  },
  {
   "cell_type": "code",
   "execution_count": null,
   "metadata": {},
   "outputs": [],
   "source": [
    "model.fit(train, validation_data=validation, epochs=MAX_EPOCHS)"
   ]
  },
  {
   "cell_type": "code",
   "execution_count": null,
   "metadata": {},
   "outputs": [],
   "source": [
    "model.push_to_hub('pretrained-bert' , organization='keras-io')\n",
    "tokenizer.push_to_hub('pretrained-bert', organization='keras-io')\n",
    "\n",
    "from transformers import TFBertForPreTraining \n",
    "model = TFBertForPreTraining.from_pretrained('your-username/my-awesome-model')"
   ]
  },
  {
   "cell_type": "code",
   "execution_count": null,
   "metadata": {},
   "outputs": [],
   "source": [
    "from transformers import TFBertForSequenceClassification\n",
    "\n",
    "model = TFBertForSequenceClassification.from_pretrained(\"your-username/my-awesome-model\")"
   ]
  }
 ],
 "metadata": {
  "kernelspec": {
   "display_name": "Python 3",
   "language": "python",
   "name": "python3"
  },
  "language_info": {
   "name": "python",
   "version": "3.11.7"
  },
  "orig_nbformat": 4
 },
 "nbformat": 4,
 "nbformat_minor": 2
}
